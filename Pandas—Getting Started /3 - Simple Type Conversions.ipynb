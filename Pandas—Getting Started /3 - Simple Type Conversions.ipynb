{
 "cells": [
  {
   "cell_type": "markdown",
   "source": [
    "## Overview\n",
    "The core data types suppoted in pandas objects are float, int, bool, datetime64[ns], timedelta[ns], and object.  Defualt types are int64 and float64 for integers and floats respectively. This notebook reviews the core concepts of:\n",
    "* text to numeric\n",
    "* numeric to text\n",
    "* float to int\n",
    "* string (object) to boolean\n",
    "* int to boolean\n",
    "* datetimes\n",
    "\n",
    "\n",
    "\n",
    "\n",
    "\n",
    "To use you need to have python installed and jupyterlab.  </br>\n",
    "The code assumes you have a basic familiarity with python syntax and use. It also assumes you are familiar with head, tail, and info functions for series and dataframes covered in earlier lessons.\n",
    "## Packages Needed\n",
    "* sys\n",
    "* pandas\n",
    "* numpy"
   ],
   "metadata": {
    "collapsed": false
   }
  },
  {
   "cell_type": "code",
   "execution_count": null,
   "outputs": [],
   "source": [
    "import sys\n",
    "\n",
    "!{sys.executable} -m pip install numpy\n",
    "!{sys.executable} -m pip install pandas\n",
    "\n",
    "'''\n",
    "Using \"!{sys.executable} -m pip install\"   instead of \"!pip install\"\n",
    "ensures that the install is done in the context and kernel currently running\n",
    "the notebook. This is a recommended best practice and I try to use this method within\n",
    "notebooks as I try to default to what I would want to see if I was collaborating with\n",
    "a group.\n",
    "'''\n",
    "\n",
    "import numpy as np\n",
    "import pandas as pd"
   ],
   "metadata": {
    "collapsed": false
   }
  },
  {
   "cell_type": "markdown",
   "source": [
    "## String and Numerics"
   ],
   "metadata": {
    "collapsed": false
   }
  },
  {
   "cell_type": "code",
   "execution_count": null,
   "outputs": [],
   "source": [
    "\n",
    "text_num = \"42\"\n",
    "print(type(int(text_num)))\n",
    "print(type(pd.to_numeric(text_num)))"
   ],
   "metadata": {
    "collapsed": false
   }
  },
  {
   "cell_type": "code",
   "execution_count": null,
   "outputs": [],
   "source": [
    "text_num = \"42.0\"\n",
    "print(type(float(text_num)))\n",
    "print(type(pd.to_numeric(text_num)))"
   ],
   "metadata": {
    "collapsed": false
   }
  },
  {
   "cell_type": "code",
   "execution_count": null,
   "outputs": [],
   "source": [
    "text_num = \"42.\"\n",
    "print(type(float(text_num)))\n",
    "print(type(pd.to_numeric(text_num)))"
   ],
   "metadata": {
    "collapsed": false
   }
  },
  {
   "cell_type": "code",
   "execution_count": null,
   "outputs": [],
   "source": [
    "text_num_series = pd.Series(data=[\"42\", \"8675309\", \"100\"])\n",
    "new_series = pd.to_numeric(text_num_series)\n",
    "new_series.info"
   ],
   "metadata": {
    "collapsed": false
   }
  },
  {
   "cell_type": "code",
   "execution_count": null,
   "outputs": [],
   "source": [
    "text_num_series = pd.Series(data=[\"42.0\", \"8675309\", \"100\"])\n",
    "new_series = pd.to_numeric(text_num_series)\n",
    "new_series.info"
   ],
   "metadata": {
    "collapsed": false
   }
  },
  {
   "cell_type": "code",
   "execution_count": null,
   "outputs": [],
   "source": [
    "# but we cant do this:\n",
    "new_series = float(text_num_series) #will fail"
   ],
   "metadata": {
    "collapsed": false
   }
  },
  {
   "cell_type": "code",
   "execution_count": null,
   "outputs": [],
   "source": [
    "text_num_df = pd.DataFrame(data= text_num_series, columns=[\"text\"])\n",
    "text_num_df.info()"
   ],
   "metadata": {
    "collapsed": false
   }
  },
  {
   "cell_type": "code",
   "execution_count": null,
   "outputs": [],
   "source": [
    "text_num_df[\"nums\"] = pd.to_numeric(tex_num_df[\"text\"])\n",
    "text_num_df.head()"
   ],
   "metadata": {
    "collapsed": false
   }
  },
  {
   "cell_type": "code",
   "execution_count": null,
   "outputs": [],
   "source": [
    "text_num_df.info()"
   ],
   "metadata": {
    "collapsed": false
   }
  },
  {
   "cell_type": "code",
   "execution_count": null,
   "outputs": [],
   "source": [
    "### astype"
   ],
   "metadata": {
    "collapsed": false
   }
  },
  {
   "cell_type": "code",
   "execution_count": null,
   "outputs": [],
   "source": [
    "# to be specific on type conversion we would use astype... but it may be confusing\n",
    "# for example based on our previous examples it would seem like both of these would\n",
    "# work but it wont\n",
    "text_num_df[\"floats\"] = text_num_df[\"text\"].astype(\"float\") # works\n",
    "text_num_df[\"ints\"] = text_num_df[\"text\"].astype(\"int\") # wont work because of a float string"
   ],
   "metadata": {
    "collapsed": false
   }
  },
  {
   "cell_type": "code",
   "execution_count": null,
   "outputs": [],
   "source": [
    "# but this will\n",
    "text_num_df[\"ints\"] = pd.to_numeric(tex_num_df[\"text\"]).astype(\"int\")\n",
    "text_num_df.head()\n"
   ],
   "metadata": {
    "collapsed": false
   }
  },
  {
   "cell_type": "code",
   "execution_count": null,
   "outputs": [],
   "source": [
    "text_num_df.info()"
   ],
   "metadata": {
    "collapsed": false
   }
  },
  {
   "cell_type": "code",
   "execution_count": null,
   "outputs": [],
   "source": [
    "# going numberic to a string is easy peasy\n",
    "text_num_df[\"string\"] = text_num_df[\"floats\"].astype(\"str\")\n",
    "text_num_df.head()"
   ],
   "metadata": {
    "collapsed": false
   }
  },
  {
   "cell_type": "code",
   "execution_count": null,
   "outputs": [],
   "source": [
    "text_num_df.info()"
   ],
   "metadata": {
    "collapsed": false
   }
  },
  {
   "cell_type": "markdown",
   "source": [],
   "metadata": {
    "collapsed": false
   }
  },
  {
   "cell_type": "code",
   "execution_count": null,
   "outputs": [],
   "source": [
    "#for an existing columns there are two options:\n",
    "text_num_df2 = pd.DataFrame(data= text_num_series, columns=[\"text\"])\n",
    "text_num_df2[\"text\"] = text_num_df2[\"text\"].astype('float')\n",
    "text_num_df2 = text_num_df2.astype({\"text\":'float'}) # my recommended\n",
    "text_num_df2.info()"
   ],
   "metadata": {
    "collapsed": false
   }
  },
  {
   "cell_type": "code",
   "execution_count": null,
   "outputs": [],
   "source": [
    "## Booleans\n",
    "booly_things = [\"true\", \"false\", \"True\", \"false\", True, False,  1,   0, 42, -1, \"t\", \"f\", 1.0, 0.0]\n",
    "booly_df = pd.DataFrame(data=booly_things, columns=[\"x\"])\n",
    "booly_df.info()"
   ],
   "metadata": {
    "collapsed": false
   }
  },
  {
   "cell_type": "code",
   "execution_count": null,
   "outputs": [],
   "source": [
    "booly_df[\"y\"] = booly_df[\"x\"].astype(\"bool\")\n",
    "booly_df.head(20)"
   ],
   "metadata": {
    "collapsed": false
   }
  },
  {
   "cell_type": "code",
   "execution_count": null,
   "outputs": [],
   "source": [
    "booly_df.loc[booly_df[\"y\"] == False]"
   ],
   "metadata": {
    "collapsed": false
   }
  },
  {
   "cell_type": "code",
   "execution_count": null,
   "outputs": [],
   "source": [
    "# so what if we only have strings... or something weird\n",
    "booly_things2 = [\"True\", \"False\", \"Weird\", \"Science\"]\n",
    "booly_df2 = pd.DataFrame(data=booly_things2, columns=[\"x\"])\n",
    "booly_df2[\"y\"] = booly_df2[\"x\"].map({'True': True, 'False': False, 'Weird':True})\n",
    "# unmapped values will become null/NaN values\n",
    "booly_df2.head()"
   ],
   "metadata": {
    "collapsed": false
   }
  },
  {
   "cell_type": "code",
   "execution_count": null,
   "outputs": [],
   "source": [
    "booly_df.info()"
   ],
   "metadata": {
    "collapsed": false
   }
  },
  {
   "cell_type": "markdown",
   "source": [
    "## Datetimes"
   ],
   "metadata": {
    "collapsed": false
   }
  },
  {
   "cell_type": "code",
   "execution_count": null,
   "outputs": [],
   "source": [
    "dt_df = pd.DataFrame(data=[\"01/15/23\", \"01/15/23 12:12:12\"], columns=[\"str_dt\"])\n",
    "dt_df.head()"
   ],
   "metadata": {
    "collapsed": false
   }
  },
  {
   "cell_type": "code",
   "execution_count": null,
   "outputs": [],
   "source": [
    "dt_df[\"dt64\"] = pd.to_datetime(dt_df[\"str_dt\"], infer_datetime_format=True)\n",
    "dt_df.head()"
   ],
   "metadata": {
    "collapsed": false
   }
  },
  {
   "cell_type": "code",
   "execution_count": null,
   "outputs": [],
   "source": [
    "dt_df.info()"
   ],
   "metadata": {
    "collapsed": false
   }
  },
  {
   "cell_type": "markdown",
   "source": [
    "### more on datetimes in a later stand alone lesson"
   ],
   "metadata": {
    "collapsed": false
   }
  },
  {
   "cell_type": "markdown",
   "source": [
    "## The End"
   ],
   "metadata": {
    "collapsed": false
   }
  },
  {
   "cell_type": "code",
   "execution_count": null,
   "outputs": [],
   "source": [],
   "metadata": {
    "collapsed": false
   }
  }
 ],
 "metadata": {
  "kernelspec": {
   "display_name": "Python 3",
   "language": "python",
   "name": "python3"
  },
  "language_info": {
   "codemirror_mode": {
    "name": "ipython",
    "version": 2
   },
   "file_extension": ".py",
   "mimetype": "text/x-python",
   "name": "python",
   "nbconvert_exporter": "python",
   "pygments_lexer": "ipython2",
   "version": "2.7.6"
  }
 },
 "nbformat": 4,
 "nbformat_minor": 0
}
