{
 "cells": [
  {
   "cell_type": "markdown",
   "source": [
    "## Overview\n",
    "This notebook contains all the code covered in the UnseriousAI YouTube video:\n",
    "\n",
    "This notebook and video are the first in the time series tutorials."
   ],
   "metadata": {
    "collapsed": false
   }
  },
  {
   "cell_type": "markdown",
   "source": [
    "## Packages Needed"
   ],
   "metadata": {
    "collapsed": false
   }
  },
  {
   "cell_type": "code",
   "execution_count": 1,
   "outputs": [
    {
     "name": "stdout",
     "output_type": "stream",
     "text": [
      "Requirement already satisfied: numpy in /Users/wes/Library/Python/3.10/lib/python/site-packages (1.23.4)\r\n",
      "Requirement already satisfied: pandas in /Library/Frameworks/Python.framework/Versions/3.10/lib/python3.10/site-packages (1.4.4)\r\n",
      "Requirement already satisfied: pytz>=2020.1 in /Library/Frameworks/Python.framework/Versions/3.10/lib/python3.10/site-packages (from pandas) (2022.2.1)\r\n",
      "Requirement already satisfied: numpy>=1.21.0 in /Users/wes/Library/Python/3.10/lib/python/site-packages (from pandas) (1.23.4)\r\n",
      "Requirement already satisfied: python-dateutil>=2.8.1 in /Library/Frameworks/Python.framework/Versions/3.10/lib/python3.10/site-packages (from pandas) (2.8.2)\r\n",
      "Requirement already satisfied: six>=1.5 in /Library/Frameworks/Python.framework/Versions/3.10/lib/python3.10/site-packages (from python-dateutil>=2.8.1->pandas) (1.16.0)\r\n"
     ]
    }
   ],
   "source": [
    "import sys\n",
    "!{sys.executable} -m pip install numpy\n",
    "!{sys.executable} -m pip install pandas\n",
    "\n",
    "import numpy as np\n",
    "import pandas as pd"
   ],
   "metadata": {
    "collapsed": false
   }
  },
  {
   "cell_type": "markdown",
   "source": [
    "## Creating Fake Data\n",
    "For our fake data we are first going to create some clean data then a few dirty examples."
   ],
   "metadata": {
    "collapsed": false
   }
  },
  {
   "cell_type": "markdown",
   "source": [
    "### Example 1\n",
    "\n",
    "Using the native pandas function date_range we can create a series of date\n",
    "https://pandas.pydata.org/pandas-docs/stable/reference/api/pandas.date_range.html\n",
    "\n",
    "Signature:\n",
    "pandas.date_range(start=None, end=None, periods=None, freq=None, tz=None, normalize=False, name=None, closed=_NoDefault.no_default, inclusive=None, **kwargs)[source]"
   ],
   "metadata": {
    "collapsed": false
   }
  },
  {
   "cell_type": "code",
   "execution_count": 2,
   "outputs": [
    {
     "name": "stdout",
     "output_type": "stream",
     "text": [
      "2023-01-01 00:00:00 <class 'pandas._libs.tslibs.timestamps.Timestamp'>\n",
      "2023-01-02 00:00:00 <class 'pandas._libs.tslibs.timestamps.Timestamp'>\n",
      "2023-01-03 00:00:00 <class 'pandas._libs.tslibs.timestamps.Timestamp'>\n"
     ]
    }
   ],
   "source": [
    "example_series_1 = pd.date_range(start='01/01/2023', end=\"01/03/2023\")\n",
    "for date in example_series_1:\n",
    "    print(date, type(date))"
   ],
   "metadata": {
    "collapsed": false
   }
  },
  {
   "cell_type": "code",
   "execution_count": 3,
   "outputs": [],
   "source": [
    "# NOTE: the type is timestamp not string."
   ],
   "metadata": {
    "collapsed": false
   }
  },
  {
   "cell_type": "code",
   "execution_count": 4,
   "outputs": [
    {
     "name": "stdout",
     "output_type": "stream",
     "text": [
      "2023-01-01 00:00:00 <class 'pandas._libs.tslibs.timestamps.Timestamp'>\n",
      "2023-01-02 00:00:00 <class 'pandas._libs.tslibs.timestamps.Timestamp'>\n",
      "2023-01-03 00:00:00 <class 'pandas._libs.tslibs.timestamps.Timestamp'>\n"
     ]
    }
   ],
   "source": [
    "# Generates the same as 1 but using periods instead. Periods defaults to days\n",
    "example_series_2 = pd.date_range(start='01/01/2023',periods=3)\n",
    "for date in example_series_2:\n",
    "    print(date, type(date))"
   ],
   "metadata": {
    "collapsed": false
   }
  },
  {
   "cell_type": "code",
   "execution_count": 5,
   "outputs": [
    {
     "name": "stdout",
     "output_type": "stream",
     "text": [
      "2023-01-01 00:00:00 <class 'pandas._libs.tslibs.timestamps.Timestamp'>\n",
      "2023-01-01 12:00:00 <class 'pandas._libs.tslibs.timestamps.Timestamp'>\n",
      "2023-01-02 00:00:00 <class 'pandas._libs.tslibs.timestamps.Timestamp'>\n"
     ]
    }
   ],
   "source": [
    "# with 3 periods within 2 days we start to see times other than midnight\n",
    "example_series_3 = pd.date_range(start='01/01/2023',end='01/02/2023',periods=3)\n",
    "for date in example_series_3:\n",
    "    print(date, type(date))"
   ],
   "metadata": {
    "collapsed": false
   }
  },
  {
   "cell_type": "code",
   "execution_count": 6,
   "outputs": [
    {
     "name": "stdout",
     "output_type": "stream",
     "text": [
      "2023-01-01 00:00:00 <class 'pandas._libs.tslibs.timestamps.Timestamp'>\n",
      "2023-01-01 23:00:00 <class 'pandas._libs.tslibs.timestamps.Timestamp'>\n",
      "2023-01-02 22:00:00 <class 'pandas._libs.tslibs.timestamps.Timestamp'>\n"
     ]
    }
   ],
   "source": [
    "# to use specific interval the freq parameter is used\n",
    "example_series_4 = pd.date_range(start='01/01/2023',periods=3, freq='23H')\n",
    "for date in example_series_4:\n",
    "    print(date, type(date))"
   ],
   "metadata": {
    "collapsed": false
   }
  },
  {
   "cell_type": "markdown",
   "source": [
    "For other examples see the docs"
   ],
   "metadata": {
    "collapsed": false
   }
  },
  {
   "cell_type": "code",
   "execution_count": 7,
   "outputs": [
    {
     "data": {
      "text/plain": "     a    b    c                date\n0  0.0  0.0  0.0 2023-01-01 00:00:00\n1  0.0  0.0  0.0 2023-01-01 23:00:00\n2  0.0  0.0  0.0 2023-01-02 22:00:00",
      "text/html": "<div>\n<style scoped>\n    .dataframe tbody tr th:only-of-type {\n        vertical-align: middle;\n    }\n\n    .dataframe tbody tr th {\n        vertical-align: top;\n    }\n\n    .dataframe thead th {\n        text-align: right;\n    }\n</style>\n<table border=\"1\" class=\"dataframe\">\n  <thead>\n    <tr style=\"text-align: right;\">\n      <th></th>\n      <th>a</th>\n      <th>b</th>\n      <th>c</th>\n      <th>date</th>\n    </tr>\n  </thead>\n  <tbody>\n    <tr>\n      <th>0</th>\n      <td>0.0</td>\n      <td>0.0</td>\n      <td>0.0</td>\n      <td>2023-01-01 00:00:00</td>\n    </tr>\n    <tr>\n      <th>1</th>\n      <td>0.0</td>\n      <td>0.0</td>\n      <td>0.0</td>\n      <td>2023-01-01 23:00:00</td>\n    </tr>\n    <tr>\n      <th>2</th>\n      <td>0.0</td>\n      <td>0.0</td>\n      <td>0.0</td>\n      <td>2023-01-02 22:00:00</td>\n    </tr>\n  </tbody>\n</table>\n</div>"
     },
     "execution_count": 7,
     "metadata": {},
     "output_type": "execute_result"
    }
   ],
   "source": [
    "# Using in a dataframe\n",
    "zeros_df = pd.DataFrame(np.zeros((3, 3)), columns=[\"a\",\"b\",\"c\"]) # 3 x 3 zero filled DF\n",
    "zeros_df[\"date\"] = example_series_4\n",
    "zeros_df.head()\n"
   ],
   "metadata": {
    "collapsed": false
   }
  },
  {
   "cell_type": "code",
   "execution_count": 8,
   "outputs": [
    {
     "name": "stdout",
     "output_type": "stream",
     "text": [
      "datetime64[ns]\n"
     ]
    }
   ],
   "source": [
    "## NOTE: Very important to notice this is a datetime dtype in the DF\n",
    "print(zeros_df[\"date\"].dtypes)"
   ],
   "metadata": {
    "collapsed": false
   }
  },
  {
   "cell_type": "markdown",
   "source": [
    "### Extracting attributes"
   ],
   "metadata": {
    "collapsed": false
   }
  },
  {
   "cell_type": "code",
   "execution_count": 9,
   "outputs": [
    {
     "data": {
      "text/plain": "     a    b    c                date  year  month  day\n0  0.0  0.0  0.0 2023-01-01 00:00:00  2023      1    1\n1  0.0  0.0  0.0 2023-01-01 23:00:00  2023      1    1\n2  0.0  0.0  0.0 2023-01-02 22:00:00  2023      1    2",
      "text/html": "<div>\n<style scoped>\n    .dataframe tbody tr th:only-of-type {\n        vertical-align: middle;\n    }\n\n    .dataframe tbody tr th {\n        vertical-align: top;\n    }\n\n    .dataframe thead th {\n        text-align: right;\n    }\n</style>\n<table border=\"1\" class=\"dataframe\">\n  <thead>\n    <tr style=\"text-align: right;\">\n      <th></th>\n      <th>a</th>\n      <th>b</th>\n      <th>c</th>\n      <th>date</th>\n      <th>year</th>\n      <th>month</th>\n      <th>day</th>\n    </tr>\n  </thead>\n  <tbody>\n    <tr>\n      <th>0</th>\n      <td>0.0</td>\n      <td>0.0</td>\n      <td>0.0</td>\n      <td>2023-01-01 00:00:00</td>\n      <td>2023</td>\n      <td>1</td>\n      <td>1</td>\n    </tr>\n    <tr>\n      <th>1</th>\n      <td>0.0</td>\n      <td>0.0</td>\n      <td>0.0</td>\n      <td>2023-01-01 23:00:00</td>\n      <td>2023</td>\n      <td>1</td>\n      <td>1</td>\n    </tr>\n    <tr>\n      <th>2</th>\n      <td>0.0</td>\n      <td>0.0</td>\n      <td>0.0</td>\n      <td>2023-01-02 22:00:00</td>\n      <td>2023</td>\n      <td>1</td>\n      <td>2</td>\n    </tr>\n  </tbody>\n</table>\n</div>"
     },
     "execution_count": 9,
     "metadata": {},
     "output_type": "execute_result"
    }
   ],
   "source": [
    "# create new columns and pull values out\n",
    "zeros_df['year'] = zeros_df[\"date\"].dt.year\n",
    "zeros_df['month'] = zeros_df[\"date\"].dt.month\n",
    "zeros_df['day'] = zeros_df[\"date\"].dt.day\n",
    "zeros_df.head()"
   ],
   "metadata": {
    "collapsed": false
   }
  },
  {
   "cell_type": "code",
   "execution_count": 10,
   "outputs": [
    {
     "data": {
      "text/plain": "     a    b    c                date  year  month  day day_name month_name  \\\n0  0.0  0.0  0.0 2023-01-01 00:00:00  2023      1    1   Sunday    January   \n1  0.0  0.0  0.0 2023-01-01 23:00:00  2023      1    1   Sunday    January   \n2  0.0  0.0  0.0 2023-01-02 22:00:00  2023      1    2   Monday    January   \n\n   day_of_year  day_of_week  \n0            1            6  \n1            1            6  \n2            2            0  ",
      "text/html": "<div>\n<style scoped>\n    .dataframe tbody tr th:only-of-type {\n        vertical-align: middle;\n    }\n\n    .dataframe tbody tr th {\n        vertical-align: top;\n    }\n\n    .dataframe thead th {\n        text-align: right;\n    }\n</style>\n<table border=\"1\" class=\"dataframe\">\n  <thead>\n    <tr style=\"text-align: right;\">\n      <th></th>\n      <th>a</th>\n      <th>b</th>\n      <th>c</th>\n      <th>date</th>\n      <th>year</th>\n      <th>month</th>\n      <th>day</th>\n      <th>day_name</th>\n      <th>month_name</th>\n      <th>day_of_year</th>\n      <th>day_of_week</th>\n    </tr>\n  </thead>\n  <tbody>\n    <tr>\n      <th>0</th>\n      <td>0.0</td>\n      <td>0.0</td>\n      <td>0.0</td>\n      <td>2023-01-01 00:00:00</td>\n      <td>2023</td>\n      <td>1</td>\n      <td>1</td>\n      <td>Sunday</td>\n      <td>January</td>\n      <td>1</td>\n      <td>6</td>\n    </tr>\n    <tr>\n      <th>1</th>\n      <td>0.0</td>\n      <td>0.0</td>\n      <td>0.0</td>\n      <td>2023-01-01 23:00:00</td>\n      <td>2023</td>\n      <td>1</td>\n      <td>1</td>\n      <td>Sunday</td>\n      <td>January</td>\n      <td>1</td>\n      <td>6</td>\n    </tr>\n    <tr>\n      <th>2</th>\n      <td>0.0</td>\n      <td>0.0</td>\n      <td>0.0</td>\n      <td>2023-01-02 22:00:00</td>\n      <td>2023</td>\n      <td>1</td>\n      <td>2</td>\n      <td>Monday</td>\n      <td>January</td>\n      <td>2</td>\n      <td>0</td>\n    </tr>\n  </tbody>\n</table>\n</div>"
     },
     "execution_count": 10,
     "metadata": {},
     "output_type": "execute_result"
    }
   ],
   "source": [
    "# convert to names or day of week/year\n",
    "zeros_df['day_name'] = zeros_df.date.dt.day_name() # notice dot notation on the column name is also an options\n",
    "zeros_df['month_name'] = zeros_df.date.dt.month_name()\n",
    "zeros_df['day_of_year'] = zeros_df.date.dt.dayofyear\n",
    "zeros_df['day_of_week'] = zeros_df.date.dt.dayofweek\n",
    "\n",
    "zeros_df.head()"
   ],
   "metadata": {
    "collapsed": false
   }
  },
  {
   "cell_type": "code",
   "execution_count": 11,
   "outputs": [
    {
     "data": {
      "text/plain": "                 date  hour  minute  second\n0 2023-01-01 00:00:00     0       0       0\n1 2023-01-01 23:00:00    23       0       0\n2 2023-01-02 22:00:00    22       0       0",
      "text/html": "<div>\n<style scoped>\n    .dataframe tbody tr th:only-of-type {\n        vertical-align: middle;\n    }\n\n    .dataframe tbody tr th {\n        vertical-align: top;\n    }\n\n    .dataframe thead th {\n        text-align: right;\n    }\n</style>\n<table border=\"1\" class=\"dataframe\">\n  <thead>\n    <tr style=\"text-align: right;\">\n      <th></th>\n      <th>date</th>\n      <th>hour</th>\n      <th>minute</th>\n      <th>second</th>\n    </tr>\n  </thead>\n  <tbody>\n    <tr>\n      <th>0</th>\n      <td>2023-01-01 00:00:00</td>\n      <td>0</td>\n      <td>0</td>\n      <td>0</td>\n    </tr>\n    <tr>\n      <th>1</th>\n      <td>2023-01-01 23:00:00</td>\n      <td>23</td>\n      <td>0</td>\n      <td>0</td>\n    </tr>\n    <tr>\n      <th>2</th>\n      <td>2023-01-02 22:00:00</td>\n      <td>22</td>\n      <td>0</td>\n      <td>0</td>\n    </tr>\n  </tbody>\n</table>\n</div>"
     },
     "execution_count": 11,
     "metadata": {},
     "output_type": "execute_result"
    }
   ],
   "source": [
    "# similar functions for times also exist\n",
    "zeros_df['hour'] = zeros_df.date.dt.hour\n",
    "zeros_df['minute'] = zeros_df.date.dt.minute\n",
    "zeros_df['second'] = zeros_df.date.dt.second\n",
    "\n",
    "# sub selecting columns for viewing\n",
    "zeros_df[['date', 'hour', 'minute', 'second']].head()"
   ],
   "metadata": {
    "collapsed": false
   }
  },
  {
   "cell_type": "markdown",
   "source": [
    "## Example 2\n",
    "Converting string based dates into datetime objects."
   ],
   "metadata": {
    "collapsed": false
   }
  },
  {
   "cell_type": "code",
   "execution_count": 12,
   "outputs": [
    {
     "name": "stdout",
     "output_type": "stream",
     "text": [
      "12\n"
     ]
    },
    {
     "data": {
      "text/plain": "      a    b    c                       dates\n0   0.0  0.0  0.0        4/12/2023 2:47:30 AM\n1   0.0  0.0  0.0                    20230101\n2   0.0  0.0  0.0                      1-1-23\n3   0.0  0.0  0.0                1-01-23 8:00\n4   0.0  0.0  0.0                  1-jan-2023\n5   0.0  0.0  0.0                  13/12/2023\n6   0.0  0.0  0.0                 Oct 20 2023\n7   0.0  0.0  0.0                 July 4 2023\n8   0.0  0.0  0.0        March 8, 2022, 22:00\n9   0.0  0.0  0.0  31 December 2022, 23:59:59\n10  0.0  0.0  0.0                            \n11  0.0  0.0  0.0                        None",
      "text/html": "<div>\n<style scoped>\n    .dataframe tbody tr th:only-of-type {\n        vertical-align: middle;\n    }\n\n    .dataframe tbody tr th {\n        vertical-align: top;\n    }\n\n    .dataframe thead th {\n        text-align: right;\n    }\n</style>\n<table border=\"1\" class=\"dataframe\">\n  <thead>\n    <tr style=\"text-align: right;\">\n      <th></th>\n      <th>a</th>\n      <th>b</th>\n      <th>c</th>\n      <th>dates</th>\n    </tr>\n  </thead>\n  <tbody>\n    <tr>\n      <th>0</th>\n      <td>0.0</td>\n      <td>0.0</td>\n      <td>0.0</td>\n      <td>4/12/2023 2:47:30 AM</td>\n    </tr>\n    <tr>\n      <th>1</th>\n      <td>0.0</td>\n      <td>0.0</td>\n      <td>0.0</td>\n      <td>20230101</td>\n    </tr>\n    <tr>\n      <th>2</th>\n      <td>0.0</td>\n      <td>0.0</td>\n      <td>0.0</td>\n      <td>1-1-23</td>\n    </tr>\n    <tr>\n      <th>3</th>\n      <td>0.0</td>\n      <td>0.0</td>\n      <td>0.0</td>\n      <td>1-01-23 8:00</td>\n    </tr>\n    <tr>\n      <th>4</th>\n      <td>0.0</td>\n      <td>0.0</td>\n      <td>0.0</td>\n      <td>1-jan-2023</td>\n    </tr>\n    <tr>\n      <th>5</th>\n      <td>0.0</td>\n      <td>0.0</td>\n      <td>0.0</td>\n      <td>13/12/2023</td>\n    </tr>\n    <tr>\n      <th>6</th>\n      <td>0.0</td>\n      <td>0.0</td>\n      <td>0.0</td>\n      <td>Oct 20 2023</td>\n    </tr>\n    <tr>\n      <th>7</th>\n      <td>0.0</td>\n      <td>0.0</td>\n      <td>0.0</td>\n      <td>July 4 2023</td>\n    </tr>\n    <tr>\n      <th>8</th>\n      <td>0.0</td>\n      <td>0.0</td>\n      <td>0.0</td>\n      <td>March 8, 2022, 22:00</td>\n    </tr>\n    <tr>\n      <th>9</th>\n      <td>0.0</td>\n      <td>0.0</td>\n      <td>0.0</td>\n      <td>31 December 2022, 23:59:59</td>\n    </tr>\n    <tr>\n      <th>10</th>\n      <td>0.0</td>\n      <td>0.0</td>\n      <td>0.0</td>\n      <td></td>\n    </tr>\n    <tr>\n      <th>11</th>\n      <td>0.0</td>\n      <td>0.0</td>\n      <td>0.0</td>\n      <td>None</td>\n    </tr>\n  </tbody>\n</table>\n</div>"
     },
     "execution_count": 12,
     "metadata": {},
     "output_type": "execute_result"
    }
   ],
   "source": [
    "bad_dates = [\"4/12/2023 2:47:30 AM\",\n",
    "             \"20230101\",\n",
    "             \"1-1-23\",\n",
    "             \"1-01-23 8:00\",\n",
    "             \"1-jan-2023\",\n",
    "             \"13/12/2023\",\n",
    "             \"Oct 20 2023\",\n",
    "             \"July 4 2023\",\n",
    "             \"March 8, 2022, 22:00\",\n",
    "             \"31 December 2022, 23:59:59\",\n",
    "             \"\",\n",
    "             None]\n",
    "\n",
    "print(len(bad_dates))\n",
    "\n",
    "zeros_df2 = pd.DataFrame(np.zeros((len(bad_dates), 3)), columns=[\"a\",\"b\",\"c\"])\n",
    "zeros_df2[\"dates\"] = bad_dates\n",
    "zeros_df2.head(len(bad_dates)+1)"
   ],
   "metadata": {
    "collapsed": false
   }
  },
  {
   "cell_type": "code",
   "execution_count": 13,
   "outputs": [
    {
     "name": "stdout",
     "output_type": "stream",
     "text": [
      "4/12/2023 2:47:30 AM \t|\t 2023-04-12 02:47:30\n",
      "20230101 \t|\t 2023-01-01 00:00:00\n",
      "1-1-23 \t|\t 2023-01-01 00:00:00\n",
      "1-01-23 8:00 \t|\t 2023-01-01 08:00:00\n",
      "1-jan-2023 \t|\t 2023-01-01 00:00:00\n",
      "13/12/2023 \t|\t 2023-12-13 00:00:00\n",
      "Oct 20 2023 \t|\t 2023-10-20 00:00:00\n",
      "July 4 2023 \t|\t 2023-07-04 00:00:00\n",
      "March 8, 2022, 22:00 \t|\t 2022-03-08 22:00:00\n",
      "31 December 2022, 23:59:59 \t|\t 2022-12-31 23:59:59\n",
      " \t|\t NaT\n",
      "None \t|\t None\n"
     ]
    }
   ],
   "source": [
    "# the Pandas to_datetime can infer most formats but not all.\n",
    "for d in bad_dates:\n",
    "    try:\n",
    "        newdate = pd.to_datetime(d, infer_datetime_format=True)\n",
    "        print(d, \"\\t|\\t\", newdate)\n",
    "    except Exception as e:\n",
    "        print(d, \"\\t|\\t\",e)"
   ],
   "metadata": {
    "collapsed": false
   }
  },
  {
   "cell_type": "code",
   "execution_count": 14,
   "outputs": [
    {
     "ename": "OutOfBoundsDatetime",
     "evalue": "Out of bounds nanosecond timestamp: 1-01-01 00:00:00",
     "output_type": "error",
     "traceback": [
      "\u001B[0;31m---------------------------------------------------------------------------\u001B[0m",
      "\u001B[0;31mTypeError\u001B[0m                                 Traceback (most recent call last)",
      "File \u001B[0;32m/Library/Frameworks/Python.framework/Versions/3.10/lib/python3.10/site-packages/pandas/core/arrays/datetimes.py:2236\u001B[0m, in \u001B[0;36mobjects_to_datetime64ns\u001B[0;34m(data, dayfirst, yearfirst, utc, errors, require_iso8601, allow_object, allow_mixed)\u001B[0m\n\u001B[1;32m   2235\u001B[0m \u001B[38;5;28;01mtry\u001B[39;00m:\n\u001B[0;32m-> 2236\u001B[0m     values, tz_parsed \u001B[38;5;241m=\u001B[39m \u001B[43mconversion\u001B[49m\u001B[38;5;241;43m.\u001B[39;49m\u001B[43mdatetime_to_datetime64\u001B[49m\u001B[43m(\u001B[49m\u001B[43mdata\u001B[49m\u001B[38;5;241;43m.\u001B[39;49m\u001B[43mravel\u001B[49m\u001B[43m(\u001B[49m\u001B[38;5;124;43m\"\u001B[39;49m\u001B[38;5;124;43mK\u001B[39;49m\u001B[38;5;124;43m\"\u001B[39;49m\u001B[43m)\u001B[49m\u001B[43m)\u001B[49m\n\u001B[1;32m   2237\u001B[0m     \u001B[38;5;66;03m# If tzaware, these values represent unix timestamps, so we\u001B[39;00m\n\u001B[1;32m   2238\u001B[0m     \u001B[38;5;66;03m#  return them as i8 to distinguish from wall times\u001B[39;00m\n",
      "File \u001B[0;32m/Library/Frameworks/Python.framework/Versions/3.10/lib/python3.10/site-packages/pandas/_libs/tslibs/conversion.pyx:360\u001B[0m, in \u001B[0;36mpandas._libs.tslibs.conversion.datetime_to_datetime64\u001B[0;34m()\u001B[0m\n",
      "\u001B[0;31mTypeError\u001B[0m: Unrecognized value type: <class 'str'>",
      "\nDuring handling of the above exception, another exception occurred:\n",
      "\u001B[0;31mOutOfBoundsDatetime\u001B[0m                       Traceback (most recent call last)",
      "Cell \u001B[0;32mIn[14], line 2\u001B[0m\n\u001B[1;32m      1\u001B[0m no_year \u001B[38;5;241m=\u001B[39m \u001B[38;5;124m\"\u001B[39m\u001B[38;5;124m1-jan\u001B[39m\u001B[38;5;124m\"\u001B[39m\n\u001B[0;32m----> 2\u001B[0m clean_date1 \u001B[38;5;241m=\u001B[39m \u001B[43mpd\u001B[49m\u001B[38;5;241;43m.\u001B[39;49m\u001B[43mto_datetime\u001B[49m\u001B[43m(\u001B[49m\u001B[43mno_year\u001B[49m\u001B[43m,\u001B[49m\u001B[43m \u001B[49m\u001B[43minfer_datetime_format\u001B[49m\u001B[38;5;241;43m=\u001B[39;49m\u001B[38;5;28;43;01mTrue\u001B[39;49;00m\u001B[43m)\u001B[49m\n\u001B[1;32m      3\u001B[0m \u001B[38;5;28mprint\u001B[39m(clean_date1)\n\u001B[1;32m      4\u001B[0m \u001B[38;5;66;03m# dates without at least a day month year will fail to be convereted\u001B[39;00m\n",
      "File \u001B[0;32m/Library/Frameworks/Python.framework/Versions/3.10/lib/python3.10/site-packages/pandas/core/tools/datetimes.py:1078\u001B[0m, in \u001B[0;36mto_datetime\u001B[0;34m(arg, errors, dayfirst, yearfirst, utc, format, exact, unit, infer_datetime_format, origin, cache)\u001B[0m\n\u001B[1;32m   1076\u001B[0m         result \u001B[38;5;241m=\u001B[39m convert_listlike(arg, \u001B[38;5;28mformat\u001B[39m)\n\u001B[1;32m   1077\u001B[0m \u001B[38;5;28;01melse\u001B[39;00m:\n\u001B[0;32m-> 1078\u001B[0m     result \u001B[38;5;241m=\u001B[39m \u001B[43mconvert_listlike\u001B[49m\u001B[43m(\u001B[49m\u001B[43mnp\u001B[49m\u001B[38;5;241;43m.\u001B[39;49m\u001B[43marray\u001B[49m\u001B[43m(\u001B[49m\u001B[43m[\u001B[49m\u001B[43marg\u001B[49m\u001B[43m]\u001B[49m\u001B[43m)\u001B[49m\u001B[43m,\u001B[49m\u001B[43m \u001B[49m\u001B[38;5;28;43mformat\u001B[39;49m\u001B[43m)\u001B[49m[\u001B[38;5;241m0\u001B[39m]\n\u001B[1;32m   1080\u001B[0m \u001B[38;5;66;03m#  error: Incompatible return value type (got \"Union[Timestamp, NaTType,\u001B[39;00m\n\u001B[1;32m   1081\u001B[0m \u001B[38;5;66;03m# Series, Index]\", expected \"Union[DatetimeIndex, Series, float, str,\u001B[39;00m\n\u001B[1;32m   1082\u001B[0m \u001B[38;5;66;03m# NaTType, None]\")\u001B[39;00m\n\u001B[1;32m   1083\u001B[0m \u001B[38;5;28;01mreturn\u001B[39;00m result\n",
      "File \u001B[0;32m/Library/Frameworks/Python.framework/Versions/3.10/lib/python3.10/site-packages/pandas/core/tools/datetimes.py:402\u001B[0m, in \u001B[0;36m_convert_listlike_datetimes\u001B[0;34m(arg, format, name, tz, unit, errors, infer_datetime_format, dayfirst, yearfirst, exact)\u001B[0m\n\u001B[1;32m    400\u001B[0m \u001B[38;5;28;01massert\u001B[39;00m \u001B[38;5;28mformat\u001B[39m \u001B[38;5;129;01mis\u001B[39;00m \u001B[38;5;28;01mNone\u001B[39;00m \u001B[38;5;129;01mor\u001B[39;00m infer_datetime_format\n\u001B[1;32m    401\u001B[0m utc \u001B[38;5;241m=\u001B[39m tz \u001B[38;5;241m==\u001B[39m \u001B[38;5;124m\"\u001B[39m\u001B[38;5;124mutc\u001B[39m\u001B[38;5;124m\"\u001B[39m\n\u001B[0;32m--> 402\u001B[0m result, tz_parsed \u001B[38;5;241m=\u001B[39m \u001B[43mobjects_to_datetime64ns\u001B[49m\u001B[43m(\u001B[49m\n\u001B[1;32m    403\u001B[0m \u001B[43m    \u001B[49m\u001B[43marg\u001B[49m\u001B[43m,\u001B[49m\n\u001B[1;32m    404\u001B[0m \u001B[43m    \u001B[49m\u001B[43mdayfirst\u001B[49m\u001B[38;5;241;43m=\u001B[39;49m\u001B[43mdayfirst\u001B[49m\u001B[43m,\u001B[49m\n\u001B[1;32m    405\u001B[0m \u001B[43m    \u001B[49m\u001B[43myearfirst\u001B[49m\u001B[38;5;241;43m=\u001B[39;49m\u001B[43myearfirst\u001B[49m\u001B[43m,\u001B[49m\n\u001B[1;32m    406\u001B[0m \u001B[43m    \u001B[49m\u001B[43mutc\u001B[49m\u001B[38;5;241;43m=\u001B[39;49m\u001B[43mutc\u001B[49m\u001B[43m,\u001B[49m\n\u001B[1;32m    407\u001B[0m \u001B[43m    \u001B[49m\u001B[43merrors\u001B[49m\u001B[38;5;241;43m=\u001B[39;49m\u001B[43merrors\u001B[49m\u001B[43m,\u001B[49m\n\u001B[1;32m    408\u001B[0m \u001B[43m    \u001B[49m\u001B[43mrequire_iso8601\u001B[49m\u001B[38;5;241;43m=\u001B[39;49m\u001B[43mrequire_iso8601\u001B[49m\u001B[43m,\u001B[49m\n\u001B[1;32m    409\u001B[0m \u001B[43m    \u001B[49m\u001B[43mallow_object\u001B[49m\u001B[38;5;241;43m=\u001B[39;49m\u001B[38;5;28;43;01mTrue\u001B[39;49;00m\u001B[43m,\u001B[49m\n\u001B[1;32m    410\u001B[0m \u001B[43m\u001B[49m\u001B[43m)\u001B[49m\n\u001B[1;32m    412\u001B[0m \u001B[38;5;28;01mif\u001B[39;00m tz_parsed \u001B[38;5;129;01mis\u001B[39;00m \u001B[38;5;129;01mnot\u001B[39;00m \u001B[38;5;28;01mNone\u001B[39;00m:\n\u001B[1;32m    413\u001B[0m     \u001B[38;5;66;03m# We can take a shortcut since the datetime64 numpy array\u001B[39;00m\n\u001B[1;32m    414\u001B[0m     \u001B[38;5;66;03m# is in UTC\u001B[39;00m\n\u001B[1;32m    415\u001B[0m     dta \u001B[38;5;241m=\u001B[39m DatetimeArray(result, dtype\u001B[38;5;241m=\u001B[39mtz_to_dtype(tz_parsed))\n",
      "File \u001B[0;32m/Library/Frameworks/Python.framework/Versions/3.10/lib/python3.10/site-packages/pandas/core/arrays/datetimes.py:2242\u001B[0m, in \u001B[0;36mobjects_to_datetime64ns\u001B[0;34m(data, dayfirst, yearfirst, utc, errors, require_iso8601, allow_object, allow_mixed)\u001B[0m\n\u001B[1;32m   2240\u001B[0m         \u001B[38;5;28;01mreturn\u001B[39;00m values\u001B[38;5;241m.\u001B[39mview(\u001B[38;5;124m\"\u001B[39m\u001B[38;5;124mi8\u001B[39m\u001B[38;5;124m\"\u001B[39m), tz_parsed\n\u001B[1;32m   2241\u001B[0m     \u001B[38;5;28;01mexcept\u001B[39;00m (\u001B[38;5;167;01mValueError\u001B[39;00m, \u001B[38;5;167;01mTypeError\u001B[39;00m):\n\u001B[0;32m-> 2242\u001B[0m         \u001B[38;5;28;01mraise\u001B[39;00m err\n\u001B[1;32m   2244\u001B[0m \u001B[38;5;28;01mif\u001B[39;00m tz_parsed \u001B[38;5;129;01mis\u001B[39;00m \u001B[38;5;129;01mnot\u001B[39;00m \u001B[38;5;28;01mNone\u001B[39;00m:\n\u001B[1;32m   2245\u001B[0m     \u001B[38;5;66;03m# We can take a shortcut since the datetime64 numpy array\u001B[39;00m\n\u001B[1;32m   2246\u001B[0m     \u001B[38;5;66;03m#  is in UTC\u001B[39;00m\n\u001B[1;32m   2247\u001B[0m     \u001B[38;5;66;03m# Return i8 values to denote unix timestamps\u001B[39;00m\n\u001B[1;32m   2248\u001B[0m     \u001B[38;5;28;01mreturn\u001B[39;00m result\u001B[38;5;241m.\u001B[39mview(\u001B[38;5;124m\"\u001B[39m\u001B[38;5;124mi8\u001B[39m\u001B[38;5;124m\"\u001B[39m), tz_parsed\n",
      "File \u001B[0;32m/Library/Frameworks/Python.framework/Versions/3.10/lib/python3.10/site-packages/pandas/core/arrays/datetimes.py:2224\u001B[0m, in \u001B[0;36mobjects_to_datetime64ns\u001B[0;34m(data, dayfirst, yearfirst, utc, errors, require_iso8601, allow_object, allow_mixed)\u001B[0m\n\u001B[1;32m   2222\u001B[0m order: Literal[\u001B[38;5;124m\"\u001B[39m\u001B[38;5;124mF\u001B[39m\u001B[38;5;124m\"\u001B[39m, \u001B[38;5;124m\"\u001B[39m\u001B[38;5;124mC\u001B[39m\u001B[38;5;124m\"\u001B[39m] \u001B[38;5;241m=\u001B[39m \u001B[38;5;124m\"\u001B[39m\u001B[38;5;124mF\u001B[39m\u001B[38;5;124m\"\u001B[39m \u001B[38;5;28;01mif\u001B[39;00m flags\u001B[38;5;241m.\u001B[39mf_contiguous \u001B[38;5;28;01melse\u001B[39;00m \u001B[38;5;124m\"\u001B[39m\u001B[38;5;124mC\u001B[39m\u001B[38;5;124m\"\u001B[39m\n\u001B[1;32m   2223\u001B[0m \u001B[38;5;28;01mtry\u001B[39;00m:\n\u001B[0;32m-> 2224\u001B[0m     result, tz_parsed \u001B[38;5;241m=\u001B[39m \u001B[43mtslib\u001B[49m\u001B[38;5;241;43m.\u001B[39;49m\u001B[43marray_to_datetime\u001B[49m\u001B[43m(\u001B[49m\n\u001B[1;32m   2225\u001B[0m \u001B[43m        \u001B[49m\u001B[43mdata\u001B[49m\u001B[38;5;241;43m.\u001B[39;49m\u001B[43mravel\u001B[49m\u001B[43m(\u001B[49m\u001B[38;5;124;43m\"\u001B[39;49m\u001B[38;5;124;43mK\u001B[39;49m\u001B[38;5;124;43m\"\u001B[39;49m\u001B[43m)\u001B[49m\u001B[43m,\u001B[49m\n\u001B[1;32m   2226\u001B[0m \u001B[43m        \u001B[49m\u001B[43merrors\u001B[49m\u001B[38;5;241;43m=\u001B[39;49m\u001B[43merrors\u001B[49m\u001B[43m,\u001B[49m\n\u001B[1;32m   2227\u001B[0m \u001B[43m        \u001B[49m\u001B[43mutc\u001B[49m\u001B[38;5;241;43m=\u001B[39;49m\u001B[43mutc\u001B[49m\u001B[43m,\u001B[49m\n\u001B[1;32m   2228\u001B[0m \u001B[43m        \u001B[49m\u001B[43mdayfirst\u001B[49m\u001B[38;5;241;43m=\u001B[39;49m\u001B[43mdayfirst\u001B[49m\u001B[43m,\u001B[49m\n\u001B[1;32m   2229\u001B[0m \u001B[43m        \u001B[49m\u001B[43myearfirst\u001B[49m\u001B[38;5;241;43m=\u001B[39;49m\u001B[43myearfirst\u001B[49m\u001B[43m,\u001B[49m\n\u001B[1;32m   2230\u001B[0m \u001B[43m        \u001B[49m\u001B[43mrequire_iso8601\u001B[49m\u001B[38;5;241;43m=\u001B[39;49m\u001B[43mrequire_iso8601\u001B[49m\u001B[43m,\u001B[49m\n\u001B[1;32m   2231\u001B[0m \u001B[43m        \u001B[49m\u001B[43mallow_mixed\u001B[49m\u001B[38;5;241;43m=\u001B[39;49m\u001B[43mallow_mixed\u001B[49m\u001B[43m,\u001B[49m\n\u001B[1;32m   2232\u001B[0m \u001B[43m    \u001B[49m\u001B[43m)\u001B[49m\n\u001B[1;32m   2233\u001B[0m     result \u001B[38;5;241m=\u001B[39m result\u001B[38;5;241m.\u001B[39mreshape(data\u001B[38;5;241m.\u001B[39mshape, order\u001B[38;5;241m=\u001B[39morder)\n\u001B[1;32m   2234\u001B[0m \u001B[38;5;28;01mexcept\u001B[39;00m \u001B[38;5;167;01mValueError\u001B[39;00m \u001B[38;5;28;01mas\u001B[39;00m err:\n",
      "File \u001B[0;32m/Library/Frameworks/Python.framework/Versions/3.10/lib/python3.10/site-packages/pandas/_libs/tslib.pyx:381\u001B[0m, in \u001B[0;36mpandas._libs.tslib.array_to_datetime\u001B[0;34m()\u001B[0m\n",
      "File \u001B[0;32m/Library/Frameworks/Python.framework/Versions/3.10/lib/python3.10/site-packages/pandas/_libs/tslib.pyx:608\u001B[0m, in \u001B[0;36mpandas._libs.tslib.array_to_datetime\u001B[0;34m()\u001B[0m\n",
      "File \u001B[0;32m/Library/Frameworks/Python.framework/Versions/3.10/lib/python3.10/site-packages/pandas/_libs/tslib.pyx:604\u001B[0m, in \u001B[0;36mpandas._libs.tslib.array_to_datetime\u001B[0;34m()\u001B[0m\n",
      "File \u001B[0;32m/Library/Frameworks/Python.framework/Versions/3.10/lib/python3.10/site-packages/pandas/_libs/tslib.pyx:559\u001B[0m, in \u001B[0;36mpandas._libs.tslib.array_to_datetime\u001B[0;34m()\u001B[0m\n",
      "File \u001B[0;32m/Library/Frameworks/Python.framework/Versions/3.10/lib/python3.10/site-packages/pandas/_libs/tslibs/conversion.pyx:517\u001B[0m, in \u001B[0;36mpandas._libs.tslibs.conversion.convert_datetime_to_tsobject\u001B[0;34m()\u001B[0m\n",
      "File \u001B[0;32m/Library/Frameworks/Python.framework/Versions/3.10/lib/python3.10/site-packages/pandas/_libs/tslibs/np_datetime.pyx:120\u001B[0m, in \u001B[0;36mpandas._libs.tslibs.np_datetime.check_dts_bounds\u001B[0;34m()\u001B[0m\n",
      "\u001B[0;31mOutOfBoundsDatetime\u001B[0m: Out of bounds nanosecond timestamp: 1-01-01 00:00:00"
     ]
    }
   ],
   "source": [
    "no_year = \"1-jan\"\n",
    "clean_date1 = pd.to_datetime(no_year, infer_datetime_format=True)\n",
    "print(clean_date1)\n",
    "# dates without at least a day month year will fail to be convereted"
   ],
   "metadata": {
    "collapsed": false
   }
  },
  {
   "cell_type": "code",
   "execution_count": 15,
   "outputs": [
    {
     "name": "stderr",
     "output_type": "stream",
     "text": [
      "/var/folders/gy/m9gdk_tn01z5q3xtd3y9k6z80000gn/T/ipykernel_7691/3858746083.py:1: UserWarning: Parsing '13/12/2023' in DD/MM/YYYY format. Provide format or specify infer_datetime_format=True for consistent parsing.\n",
      "  zeros_df2[\"inferred\"] = pd.to_datetime(zeros_df2[\"dates\"], infer_datetime_format=True)\n"
     ]
    }
   ],
   "source": [
    "zeros_df2[\"inferred\"] = pd.to_datetime(zeros_df2[\"dates\"], infer_datetime_format=True)"
   ],
   "metadata": {
    "collapsed": false
   }
  },
  {
   "cell_type": "code",
   "execution_count": 16,
   "outputs": [
    {
     "data": {
      "text/plain": "      a    b    c                       dates            inferred\n0   0.0  0.0  0.0        4/12/2023 2:47:30 AM 2023-04-12 02:47:30\n1   0.0  0.0  0.0                    20230101 2023-01-01 00:00:00\n2   0.0  0.0  0.0                      1-1-23 2023-01-01 00:00:00\n3   0.0  0.0  0.0                1-01-23 8:00 2023-01-01 08:00:00\n4   0.0  0.0  0.0                  1-jan-2023 2023-01-01 00:00:00\n5   0.0  0.0  0.0                  13/12/2023 2023-12-13 00:00:00\n6   0.0  0.0  0.0                 Oct 20 2023 2023-10-20 00:00:00\n7   0.0  0.0  0.0                 July 4 2023 2023-07-04 00:00:00\n8   0.0  0.0  0.0        March 8, 2022, 22:00 2022-03-08 22:00:00\n9   0.0  0.0  0.0  31 December 2022, 23:59:59 2022-12-31 23:59:59\n10  0.0  0.0  0.0                                             NaT\n11  0.0  0.0  0.0                        None                 NaT",
      "text/html": "<div>\n<style scoped>\n    .dataframe tbody tr th:only-of-type {\n        vertical-align: middle;\n    }\n\n    .dataframe tbody tr th {\n        vertical-align: top;\n    }\n\n    .dataframe thead th {\n        text-align: right;\n    }\n</style>\n<table border=\"1\" class=\"dataframe\">\n  <thead>\n    <tr style=\"text-align: right;\">\n      <th></th>\n      <th>a</th>\n      <th>b</th>\n      <th>c</th>\n      <th>dates</th>\n      <th>inferred</th>\n    </tr>\n  </thead>\n  <tbody>\n    <tr>\n      <th>0</th>\n      <td>0.0</td>\n      <td>0.0</td>\n      <td>0.0</td>\n      <td>4/12/2023 2:47:30 AM</td>\n      <td>2023-04-12 02:47:30</td>\n    </tr>\n    <tr>\n      <th>1</th>\n      <td>0.0</td>\n      <td>0.0</td>\n      <td>0.0</td>\n      <td>20230101</td>\n      <td>2023-01-01 00:00:00</td>\n    </tr>\n    <tr>\n      <th>2</th>\n      <td>0.0</td>\n      <td>0.0</td>\n      <td>0.0</td>\n      <td>1-1-23</td>\n      <td>2023-01-01 00:00:00</td>\n    </tr>\n    <tr>\n      <th>3</th>\n      <td>0.0</td>\n      <td>0.0</td>\n      <td>0.0</td>\n      <td>1-01-23 8:00</td>\n      <td>2023-01-01 08:00:00</td>\n    </tr>\n    <tr>\n      <th>4</th>\n      <td>0.0</td>\n      <td>0.0</td>\n      <td>0.0</td>\n      <td>1-jan-2023</td>\n      <td>2023-01-01 00:00:00</td>\n    </tr>\n    <tr>\n      <th>5</th>\n      <td>0.0</td>\n      <td>0.0</td>\n      <td>0.0</td>\n      <td>13/12/2023</td>\n      <td>2023-12-13 00:00:00</td>\n    </tr>\n    <tr>\n      <th>6</th>\n      <td>0.0</td>\n      <td>0.0</td>\n      <td>0.0</td>\n      <td>Oct 20 2023</td>\n      <td>2023-10-20 00:00:00</td>\n    </tr>\n    <tr>\n      <th>7</th>\n      <td>0.0</td>\n      <td>0.0</td>\n      <td>0.0</td>\n      <td>July 4 2023</td>\n      <td>2023-07-04 00:00:00</td>\n    </tr>\n    <tr>\n      <th>8</th>\n      <td>0.0</td>\n      <td>0.0</td>\n      <td>0.0</td>\n      <td>March 8, 2022, 22:00</td>\n      <td>2022-03-08 22:00:00</td>\n    </tr>\n    <tr>\n      <th>9</th>\n      <td>0.0</td>\n      <td>0.0</td>\n      <td>0.0</td>\n      <td>31 December 2022, 23:59:59</td>\n      <td>2022-12-31 23:59:59</td>\n    </tr>\n    <tr>\n      <th>10</th>\n      <td>0.0</td>\n      <td>0.0</td>\n      <td>0.0</td>\n      <td></td>\n      <td>NaT</td>\n    </tr>\n    <tr>\n      <th>11</th>\n      <td>0.0</td>\n      <td>0.0</td>\n      <td>0.0</td>\n      <td>None</td>\n      <td>NaT</td>\n    </tr>\n  </tbody>\n</table>\n</div>"
     },
     "execution_count": 16,
     "metadata": {},
     "output_type": "execute_result"
    }
   ],
   "source": [
    "zeros_df2[\"inferred\"] = [pd.to_datetime(x, infer_datetime_format=True) for x in bad_dates]\n",
    "zeros_df2.head(20)"
   ],
   "metadata": {
    "collapsed": false
   }
  },
  {
   "cell_type": "code",
   "execution_count": 17,
   "outputs": [
    {
     "name": "stdout",
     "output_type": "stream",
     "text": [
      "2023-01-31 05:15:00 <class 'pandas._libs.tslibs.timestamps.Timestamp'>\n"
     ]
    }
   ],
   "source": [
    "## https://docs.python.org/3/library/datetime.html#strftime-and-strptime-behavior\n",
    "# for cases that cannot be inffered the pthon strptime string formats need to be used\n",
    "\n",
    "from_format = pd.to_datetime(\"01-31-2023 05:15\", format=\"%m-%d-%Y %H:%M\")\n",
    "print(from_format, type(from_format))\n"
   ],
   "metadata": {
    "collapsed": false
   }
  },
  {
   "cell_type": "markdown",
   "source": [
    "## Filtering / Selecting"
   ],
   "metadata": {
    "collapsed": false
   }
  },
  {
   "cell_type": "markdown",
   "source": [
    "### Example 3"
   ],
   "metadata": {
    "collapsed": false
   }
  },
  {
   "cell_type": "code",
   "execution_count": 18,
   "outputs": [],
   "source": [
    "large_date_series = pd.date_range(start='01/01/2023',end='05/15/2023',periods=300)\n",
    "zeros_df3 = pd.DataFrame(np.zeros((len(large_date_series), 3)), columns=[\"a\",\"b\",\"c\"])\n",
    "zeros_df3[\"dates\"] = large_date_series"
   ],
   "metadata": {
    "collapsed": false
   }
  },
  {
   "cell_type": "code",
   "execution_count": 19,
   "outputs": [
    {
     "data": {
      "text/plain": "     a    b    c                         dates\n0  0.0  0.0  0.0 2023-01-01 00:00:00.000000000\n1  0.0  0.0  0.0 2023-01-01 10:45:21.070234113\n2  0.0  0.0  0.0 2023-01-01 21:30:42.140468227\n3  0.0  0.0  0.0 2023-01-02 08:16:03.210702341\n4  0.0  0.0  0.0 2023-01-02 19:01:24.280936454",
      "text/html": "<div>\n<style scoped>\n    .dataframe tbody tr th:only-of-type {\n        vertical-align: middle;\n    }\n\n    .dataframe tbody tr th {\n        vertical-align: top;\n    }\n\n    .dataframe thead th {\n        text-align: right;\n    }\n</style>\n<table border=\"1\" class=\"dataframe\">\n  <thead>\n    <tr style=\"text-align: right;\">\n      <th></th>\n      <th>a</th>\n      <th>b</th>\n      <th>c</th>\n      <th>dates</th>\n    </tr>\n  </thead>\n  <tbody>\n    <tr>\n      <th>0</th>\n      <td>0.0</td>\n      <td>0.0</td>\n      <td>0.0</td>\n      <td>2023-01-01 00:00:00.000000000</td>\n    </tr>\n    <tr>\n      <th>1</th>\n      <td>0.0</td>\n      <td>0.0</td>\n      <td>0.0</td>\n      <td>2023-01-01 10:45:21.070234113</td>\n    </tr>\n    <tr>\n      <th>2</th>\n      <td>0.0</td>\n      <td>0.0</td>\n      <td>0.0</td>\n      <td>2023-01-01 21:30:42.140468227</td>\n    </tr>\n    <tr>\n      <th>3</th>\n      <td>0.0</td>\n      <td>0.0</td>\n      <td>0.0</td>\n      <td>2023-01-02 08:16:03.210702341</td>\n    </tr>\n    <tr>\n      <th>4</th>\n      <td>0.0</td>\n      <td>0.0</td>\n      <td>0.0</td>\n      <td>2023-01-02 19:01:24.280936454</td>\n    </tr>\n  </tbody>\n</table>\n</div>"
     },
     "execution_count": 19,
     "metadata": {},
     "output_type": "execute_result"
    }
   ],
   "source": [
    "zeros_df3.head()"
   ],
   "metadata": {
    "collapsed": false
   }
  },
  {
   "cell_type": "code",
   "execution_count": 20,
   "outputs": [
    {
     "name": "stdout",
     "output_type": "stream",
     "text": [
      "134 days 00:00:00\n",
      "300\n"
     ]
    }
   ],
   "source": [
    "print(zeros_df3['dates'].max() - zeros_df3['dates'].min())\n",
    "print(len(zeros_df3))"
   ],
   "metadata": {
    "collapsed": false
   }
  },
  {
   "cell_type": "code",
   "execution_count": 21,
   "outputs": [
    {
     "data": {
      "text/plain": "                                 a    b    c\ndates                                       \n2023-01-01 00:00:00.000000000  0.0  0.0  0.0\n2023-01-01 10:45:21.070234113  0.0  0.0  0.0\n2023-01-01 21:30:42.140468227  0.0  0.0  0.0\n2023-01-02 08:16:03.210702341  0.0  0.0  0.0\n2023-01-02 19:01:24.280936454  0.0  0.0  0.0",
      "text/html": "<div>\n<style scoped>\n    .dataframe tbody tr th:only-of-type {\n        vertical-align: middle;\n    }\n\n    .dataframe tbody tr th {\n        vertical-align: top;\n    }\n\n    .dataframe thead th {\n        text-align: right;\n    }\n</style>\n<table border=\"1\" class=\"dataframe\">\n  <thead>\n    <tr style=\"text-align: right;\">\n      <th></th>\n      <th>a</th>\n      <th>b</th>\n      <th>c</th>\n    </tr>\n    <tr>\n      <th>dates</th>\n      <th></th>\n      <th></th>\n      <th></th>\n    </tr>\n  </thead>\n  <tbody>\n    <tr>\n      <th>2023-01-01 00:00:00.000000000</th>\n      <td>0.0</td>\n      <td>0.0</td>\n      <td>0.0</td>\n    </tr>\n    <tr>\n      <th>2023-01-01 10:45:21.070234113</th>\n      <td>0.0</td>\n      <td>0.0</td>\n      <td>0.0</td>\n    </tr>\n    <tr>\n      <th>2023-01-01 21:30:42.140468227</th>\n      <td>0.0</td>\n      <td>0.0</td>\n      <td>0.0</td>\n    </tr>\n    <tr>\n      <th>2023-01-02 08:16:03.210702341</th>\n      <td>0.0</td>\n      <td>0.0</td>\n      <td>0.0</td>\n    </tr>\n    <tr>\n      <th>2023-01-02 19:01:24.280936454</th>\n      <td>0.0</td>\n      <td>0.0</td>\n      <td>0.0</td>\n    </tr>\n  </tbody>\n</table>\n</div>"
     },
     "execution_count": 21,
     "metadata": {},
     "output_type": "execute_result"
    }
   ],
   "source": [
    "zeros_df3 = zeros_df3.set_index('dates')\n",
    "zeros_df3.head()"
   ],
   "metadata": {
    "collapsed": false
   }
  },
  {
   "cell_type": "code",
   "execution_count": 22,
   "outputs": [
    {
     "data": {
      "text/plain": "                                 a    b    c\ndates                                       \n2023-02-01 08:54:34.916387960  0.0  0.0  0.0\n2023-02-01 19:39:55.986622073  0.0  0.0  0.0\n2023-02-02 06:25:17.056856187  0.0  0.0  0.0\n2023-02-02 17:10:38.127090301  0.0  0.0  0.0\n2023-02-03 03:55:59.197324414  0.0  0.0  0.0\n...                            ...  ...  ...\n2023-02-27 19:30:18.060200669  0.0  0.0  0.0\n2023-02-28 06:15:39.130434782  0.0  0.0  0.0\n2023-02-28 17:01:00.200668896  0.0  0.0  0.0\n2023-03-01 03:46:21.270903010  0.0  0.0  0.0\n2023-03-01 14:31:42.341137124  0.0  0.0  0.0\n\n[64 rows x 3 columns]",
      "text/html": "<div>\n<style scoped>\n    .dataframe tbody tr th:only-of-type {\n        vertical-align: middle;\n    }\n\n    .dataframe tbody tr th {\n        vertical-align: top;\n    }\n\n    .dataframe thead th {\n        text-align: right;\n    }\n</style>\n<table border=\"1\" class=\"dataframe\">\n  <thead>\n    <tr style=\"text-align: right;\">\n      <th></th>\n      <th>a</th>\n      <th>b</th>\n      <th>c</th>\n    </tr>\n    <tr>\n      <th>dates</th>\n      <th></th>\n      <th></th>\n      <th></th>\n    </tr>\n  </thead>\n  <tbody>\n    <tr>\n      <th>2023-02-01 08:54:34.916387960</th>\n      <td>0.0</td>\n      <td>0.0</td>\n      <td>0.0</td>\n    </tr>\n    <tr>\n      <th>2023-02-01 19:39:55.986622073</th>\n      <td>0.0</td>\n      <td>0.0</td>\n      <td>0.0</td>\n    </tr>\n    <tr>\n      <th>2023-02-02 06:25:17.056856187</th>\n      <td>0.0</td>\n      <td>0.0</td>\n      <td>0.0</td>\n    </tr>\n    <tr>\n      <th>2023-02-02 17:10:38.127090301</th>\n      <td>0.0</td>\n      <td>0.0</td>\n      <td>0.0</td>\n    </tr>\n    <tr>\n      <th>2023-02-03 03:55:59.197324414</th>\n      <td>0.0</td>\n      <td>0.0</td>\n      <td>0.0</td>\n    </tr>\n    <tr>\n      <th>...</th>\n      <td>...</td>\n      <td>...</td>\n      <td>...</td>\n    </tr>\n    <tr>\n      <th>2023-02-27 19:30:18.060200669</th>\n      <td>0.0</td>\n      <td>0.0</td>\n      <td>0.0</td>\n    </tr>\n    <tr>\n      <th>2023-02-28 06:15:39.130434782</th>\n      <td>0.0</td>\n      <td>0.0</td>\n      <td>0.0</td>\n    </tr>\n    <tr>\n      <th>2023-02-28 17:01:00.200668896</th>\n      <td>0.0</td>\n      <td>0.0</td>\n      <td>0.0</td>\n    </tr>\n    <tr>\n      <th>2023-03-01 03:46:21.270903010</th>\n      <td>0.0</td>\n      <td>0.0</td>\n      <td>0.0</td>\n    </tr>\n    <tr>\n      <th>2023-03-01 14:31:42.341137124</th>\n      <td>0.0</td>\n      <td>0.0</td>\n      <td>0.0</td>\n    </tr>\n  </tbody>\n</table>\n<p>64 rows × 3 columns</p>\n</div>"
     },
     "execution_count": 22,
     "metadata": {},
     "output_type": "execute_result"
    }
   ],
   "source": [
    "zeros_df3.loc[\"2023-02-01\" : \"2023-03-01\"]"
   ],
   "metadata": {
    "collapsed": false
   }
  },
  {
   "cell_type": "code",
   "execution_count": 22,
   "outputs": [],
   "source": [],
   "metadata": {
    "collapsed": false
   }
  },
  {
   "cell_type": "code",
   "execution_count": null,
   "outputs": [],
   "source": [],
   "metadata": {
    "collapsed": false,
    "pycharm": {
     "is_executing": true
    }
   }
  },
  {
   "cell_type": "code",
   "execution_count": 22,
   "outputs": [],
   "source": [],
   "metadata": {
    "collapsed": false
   }
  }
 ],
 "metadata": {
  "kernelspec": {
   "display_name": "Python 3",
   "language": "python",
   "name": "python3"
  },
  "language_info": {
   "codemirror_mode": {
    "name": "ipython",
    "version": 2
   },
   "file_extension": ".py",
   "mimetype": "text/x-python",
   "name": "python",
   "nbconvert_exporter": "python",
   "pygments_lexer": "ipython2",
   "version": "2.7.6"
  }
 },
 "nbformat": 4,
 "nbformat_minor": 0
}
