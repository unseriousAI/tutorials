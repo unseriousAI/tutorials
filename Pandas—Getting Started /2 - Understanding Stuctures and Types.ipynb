{
 "cells": [
  {
   "cell_type": "markdown",
   "source": [
    "## Overview\n",
    "\n",
    "This notebook reviews the core concepts of:\n",
    "* DataFrames\n",
    "* Series\n",
    "* Dtypes\n",
    "\n",
    "To use you need to have python installed and jupyterlab.  </br>\n",
    "The code assumes you have a basic familiarity with python syntax and use.\n",
    "## Packages Needed\n",
    "* sys\n",
    "* pandas\n",
    "* numpy"
   ],
   "metadata": {
    "collapsed": false
   }
  },
  {
   "cell_type": "markdown",
   "source": [
    "## Install & Import"
   ],
   "metadata": {
    "collapsed": false
   }
  },
  {
   "cell_type": "code",
   "execution_count": null,
   "outputs": [],
   "source": [
    "\n",
    "import sys\n",
    "\n",
    "!{sys.executable} -m pip install numpy\n",
    "!{sys.executable} -m pip install pandas\n",
    "\n",
    "'''\n",
    "Using \"!{sys.executable} -m pip install\"   instead of \"!pip install\"\n",
    "ensures that the install is done in the context and kernel currently running\n",
    "the notebook. This is a recommended best practice and I try to use this method within\n",
    "notebooks as I try to default to what I would want to see if I was collaborating with\n",
    "a group.\n",
    "'''\n",
    "\n",
    "import numpy as np\n",
    "import pandas as pd"
   ],
   "metadata": {
    "collapsed": false
   }
  },
  {
   "cell_type": "markdown",
   "source": [
    "## Series\n",
    "Series are labeled arrays and the building block to DataFrame rows and columns."
   ],
   "metadata": {
    "collapsed": false
   }
  },
  {
   "cell_type": "code",
   "execution_count": null,
   "outputs": [],
   "source": [
    "empty_float_series = pd.Series(data=None, index=None, dtype=np.float64, name=\"Float Series\")\n",
    "empty_float_series.shape"
   ],
   "metadata": {
    "collapsed": false
   }
  },
  {
   "cell_type": "code",
   "execution_count": null,
   "outputs": [],
   "source": [
    "empty_float_series.info()"
   ],
   "metadata": {
    "collapsed": false
   }
  },
  {
   "cell_type": "code",
   "execution_count": null,
   "outputs": [],
   "source": [
    "data = [0.0, 1.1, 2.2, 3.3]\n",
    "float_series = pd.Series(data=data, index=[0,1,2,3], dtype=np.float64, name=\"Float Series\")\n",
    "float_series.shape"
   ],
   "metadata": {
    "collapsed": false
   }
  },
  {
   "cell_type": "code",
   "execution_count": null,
   "outputs": [],
   "source": [
    "float_series.info()"
   ],
   "metadata": {
    "collapsed": false
   }
  },
  {
   "cell_type": "code",
   "execution_count": null,
   "outputs": [],
   "source": [
    "# you can easily make a change to every value through\n",
    "# functions like add\n",
    "float_series.add(5.5)"
   ],
   "metadata": {
    "collapsed": false
   }
  },
  {
   "cell_type": "code",
   "execution_count": null,
   "outputs": [],
   "source": [
    "# but this does not edit the underlying stored values\n",
    "# unless it is specifically assigned back to the same variable name\n",
    "float_series.head()"
   ],
   "metadata": {
    "collapsed": false
   }
  },
  {
   "cell_type": "code",
   "execution_count": null,
   "outputs": [],
   "source": [
    "float_series = float_series.add(5.5)\n",
    "float_series.head()"
   ],
   "metadata": {
    "collapsed": false
   }
  },
  {
   "cell_type": "code",
   "execution_count": null,
   "outputs": [],
   "source": [
    "# the data parameter can accept several types not just list/array data\n",
    "data_dict = {\"bob\":1.1, \"jane\":2.2, \"lance\":3.3}\n",
    "dict_series = pd.Series(data=data_dict, index=None, dtype=np.float64, name=\"Dictionary Series\")\n",
    "dict_series.head()"
   ],
   "metadata": {
    "collapsed": false
   }
  },
  {
   "cell_type": "code",
   "execution_count": null,
   "outputs": [],
   "source": [
    "# notice the dictionary keys became the index\n",
    "# This now allows use like\n",
    "dict_series[\"bob\"]"
   ],
   "metadata": {
    "collapsed": false
   }
  },
  {
   "cell_type": "code",
   "execution_count": null,
   "outputs": [],
   "source": [
    "# you can also use numpy ndarrays\n",
    "np_rand_data = np.random.randint(0,1000,100)\n",
    "random_series = pd.Series(data=np_rand_data)\n",
    "random_series.head()"
   ],
   "metadata": {
    "collapsed": false
   }
  },
  {
   "cell_type": "code",
   "execution_count": null,
   "outputs": [],
   "source": [
    "random_series.info()"
   ],
   "metadata": {
    "collapsed": false
   }
  },
  {
   "cell_type": "code",
   "execution_count": null,
   "outputs": [],
   "source": [
    "# you can also set a single value with a given index like\n",
    "\n",
    "fours_series = pd.Series(data=4., index=[\"A\", \"B\", \"C\", \"D\"])\n",
    "fours_series.head()"
   ],
   "metadata": {
    "collapsed": false
   }
  },
  {
   "cell_type": "code",
   "execution_count": null,
   "outputs": [],
   "source": [
    "# to add to a series use pd.concat()\n",
    "not_fours = pd.Series(data=5., index=[\"E\", \"F\"])\n",
    "fours_series = pd.concat([fours_series, not_fours])\n",
    "fours_series.tail()"
   ],
   "metadata": {
    "collapsed": false
   }
  },
  {
   "cell_type": "markdown",
   "source": [
    "## Dtypes\n",
    "Pandas support the following Dtypes:\n",
    "* object - text, str, or mixed formats\n",
    "* int64 - integers\n",
    "* flout64 - floating point numbers\n",
    "* bool - True False\n",
    "* datetime64 - date and time values\n",
    "* timedelta[ns] - difference between two datetimes\n",
    "* category - a fixed finite list of string values"
   ],
   "metadata": {
    "collapsed": false
   }
  },
  {
   "cell_type": "code",
   "execution_count": null,
   "outputs": [],
   "source": [
    "# Why dtypes matter.. because there is specific api and functions\n",
    "# to each types that can be very very useful.\n",
    "\n",
    "# For example:\n",
    "obj_series = pd.Series(data=[\"1.1\", \"2.2\", \"3.3\"], dtype=str)\n",
    "print(obj_series.sum())\n",
    "print(\"verus\")\n",
    "print(dict_series.sum())"
   ],
   "metadata": {
    "collapsed": false
   }
  },
  {
   "cell_type": "code",
   "execution_count": null,
   "outputs": [],
   "source": [
    "# you need to watch for unintended conversions\n",
    "not_floats = pd.Series(data=\"5\", index=[\"G\", \"H\"])\n",
    "fours_series = pd.concat([fours_series, not_floats])\n",
    "# Will convert from float64 to object\n",
    "fours_series.info()"
   ],
   "metadata": {
    "collapsed": false
   }
  },
  {
   "cell_type": "markdown",
   "source": [
    "## DataFrames"
   ],
   "metadata": {
    "collapsed": false
   }
  },
  {
   "cell_type": "code",
   "execution_count": null,
   "outputs": [],
   "source": [
    "first_df = pd.DataFrame(data=dict_series)\n",
    "first_df.head()"
   ],
   "metadata": {
    "collapsed": false
   }
  },
  {
   "cell_type": "code",
   "execution_count": null,
   "outputs": [],
   "source": [
    "first_df.info()"
   ],
   "metadata": {
    "collapsed": false
   }
  },
  {
   "cell_type": "code",
   "execution_count": null,
   "outputs": [],
   "source": [
    "first_df[\"obj_nums\"] = [\"1.1\", \"2.2\", \"3.3\"]\n",
    "first_df.head()"
   ],
   "metadata": {
    "collapsed": false
   }
  },
  {
   "cell_type": "code",
   "execution_count": null,
   "outputs": [],
   "source": [
    "first_df.info()"
   ],
   "metadata": {
    "collapsed": false
   }
  },
  {
   "cell_type": "code",
   "execution_count": null,
   "outputs": [],
   "source": [
    "obj_series.info()"
   ],
   "metadata": {
    "collapsed": false
   }
  },
  {
   "cell_type": "code",
   "execution_count": null,
   "outputs": [],
   "source": [
    "first_df[\"C\"] = obj_series\n",
    "# wont work because it not just a list/array\n",
    "first_df.head()"
   ],
   "metadata": {
    "collapsed": false
   }
  },
  {
   "cell_type": "code",
   "execution_count": null,
   "outputs": [],
   "source": [
    "first_df[\"C\"] = obj_series.values # needs to be unpacked\n",
    "first_df.head()"
   ],
   "metadata": {
    "collapsed": false
   }
  },
  {
   "cell_type": "code",
   "execution_count": null,
   "outputs": [],
   "source": [
    "first_df.info()"
   ],
   "metadata": {
    "collapsed": false
   }
  }
 ],
 "metadata": {
  "kernelspec": {
   "display_name": "Python 3",
   "language": "python",
   "name": "python3"
  },
  "language_info": {
   "codemirror_mode": {
    "name": "ipython",
    "version": 2
   },
   "file_extension": ".py",
   "mimetype": "text/x-python",
   "name": "python",
   "nbconvert_exporter": "python",
   "pygments_lexer": "ipython2",
   "version": "2.7.6"
  }
 },
 "nbformat": 4,
 "nbformat_minor": 0
}
